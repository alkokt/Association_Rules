{
 "cells": [
  {
   "cell_type": "code",
   "execution_count": 255,
   "id": "disturbed-casting",
   "metadata": {},
   "outputs": [],
   "source": [
    "#mengimport library yang di butuhkan\n",
    "import numpy as np\n",
    "import pandas as pd\n",
    "from mlxtend.frequent_patterns import apriori, association_rules\n",
    "from mlxtend.preprocessing import TransactionEncoder"
   ]
  },
  {
   "cell_type": "code",
   "execution_count": 256,
   "id": "indie-transaction",
   "metadata": {},
   "outputs": [
    {
     "data": {
      "text/html": [
       "<div>\n",
       "<style scoped>\n",
       "    .dataframe tbody tr th:only-of-type {\n",
       "        vertical-align: middle;\n",
       "    }\n",
       "\n",
       "    .dataframe tbody tr th {\n",
       "        vertical-align: top;\n",
       "    }\n",
       "\n",
       "    .dataframe thead th {\n",
       "        text-align: right;\n",
       "    }\n",
       "</style>\n",
       "<table border=\"1\" class=\"dataframe\">\n",
       "  <thead>\n",
       "    <tr style=\"text-align: right;\">\n",
       "      <th></th>\n",
       "      <th>Genre</th>\n",
       "      <th>Film</th>\n",
       "    </tr>\n",
       "  </thead>\n",
       "  <tbody>\n",
       "    <tr>\n",
       "      <th>0</th>\n",
       "      <td>['Drama', 'Comedy']</td>\n",
       "      <td>Water For Elephants</td>\n",
       "    </tr>\n",
       "    <tr>\n",
       "      <th>1</th>\n",
       "      <td>['Comedy', 'Romance']</td>\n",
       "      <td>You Will Meet a Tall Dark Stranger</td>\n",
       "    </tr>\n",
       "    <tr>\n",
       "      <th>2</th>\n",
       "      <td>['Drama', 'Romance']</td>\n",
       "      <td>Waitress</td>\n",
       "    </tr>\n",
       "    <tr>\n",
       "      <th>3</th>\n",
       "      <td>['Comedy', 'Romance']</td>\n",
       "      <td>What Happens in Vegas</td>\n",
       "    </tr>\n",
       "    <tr>\n",
       "      <th>4</th>\n",
       "      <td>['Comedy', 'Romance']</td>\n",
       "      <td>Youth in Revolt</td>\n",
       "    </tr>\n",
       "  </tbody>\n",
       "</table>\n",
       "</div>"
      ],
      "text/plain": [
       "                   Genre                                Film\n",
       "0    ['Drama', 'Comedy']                 Water For Elephants\n",
       "1  ['Comedy', 'Romance']  You Will Meet a Tall Dark Stranger\n",
       "2   ['Drama', 'Romance']                            Waitress\n",
       "3  ['Comedy', 'Romance']               What Happens in Vegas\n",
       "4  ['Comedy', 'Romance']                     Youth in Revolt"
      ]
     },
     "execution_count": 256,
     "metadata": {},
     "output_type": "execute_result"
    }
   ],
   "source": [
    "df = pd.read_csv('movies.csv') #membaca file .csv yang akan di gunakan\n",
    "df = df.loc[:, ['Genre' , 'Film', ]] # memilih genre dan song name untuk di tampilkan\n",
    "df.head() # menampilkan 5 data teratas"
   ]
  },
  {
   "cell_type": "code",
   "execution_count": 257,
   "id": "bearing-proposal",
   "metadata": {},
   "outputs": [
    {
     "data": {
      "text/plain": [
       "[[\"'Drama'\", \"'Comedy'\"], [\"'Comedy'\", \"'Romance'\"], [\"'Drama'\", \"'Romance'\"]]"
      ]
     },
     "execution_count": 257,
     "metadata": {},
     "output_type": "execute_result"
    }
   ],
   "source": [
    "# untuk memecah genre yang ada\n",
    "def parse_genre(x):\n",
    "  x = x[1:-1] # menghilangkan \"[\" dan \"]\" pada genre\n",
    "  l = x.split(', ') # memisahkan tiap genre jika terdapat \", \"\n",
    "  genre_list = [] # membuat list kosong\n",
    "  #perulangan yang berfungsi untuk menghilangkan quotes \"\" dan hanya menyisakan ''\n",
    "  for genre in l:\n",
    "    genre_list.append(genre[1:-1]) \n",
    "\n",
    "  return genre_list\n",
    "\n",
    "data = list(df['Genre'].apply(lambda x:x[1:-1].split(', ')))\n",
    "data[:3] # menampilkan 3 data"
   ]
  },
  {
   "cell_type": "code",
   "execution_count": 258,
   "id": "employed-prize",
   "metadata": {},
   "outputs": [
    {
     "data": {
      "text/html": [
       "<div>\n",
       "<style scoped>\n",
       "    .dataframe tbody tr th:only-of-type {\n",
       "        vertical-align: middle;\n",
       "    }\n",
       "\n",
       "    .dataframe tbody tr th {\n",
       "        vertical-align: top;\n",
       "    }\n",
       "\n",
       "    .dataframe thead th {\n",
       "        text-align: right;\n",
       "    }\n",
       "</style>\n",
       "<table border=\"1\" class=\"dataframe\">\n",
       "  <thead>\n",
       "    <tr style=\"text-align: right;\">\n",
       "      <th></th>\n",
       "      <th>'Action'</th>\n",
       "      <th>'Animation'</th>\n",
       "      <th>'Comedy'</th>\n",
       "      <th>'Drama'</th>\n",
       "      <th>'Fantasy'</th>\n",
       "      <th>'Romance'</th>\n",
       "    </tr>\n",
       "  </thead>\n",
       "  <tbody>\n",
       "    <tr>\n",
       "      <th>0</th>\n",
       "      <td>0</td>\n",
       "      <td>0</td>\n",
       "      <td>1</td>\n",
       "      <td>1</td>\n",
       "      <td>0</td>\n",
       "      <td>0</td>\n",
       "    </tr>\n",
       "    <tr>\n",
       "      <th>1</th>\n",
       "      <td>0</td>\n",
       "      <td>0</td>\n",
       "      <td>1</td>\n",
       "      <td>0</td>\n",
       "      <td>0</td>\n",
       "      <td>1</td>\n",
       "    </tr>\n",
       "    <tr>\n",
       "      <th>2</th>\n",
       "      <td>0</td>\n",
       "      <td>0</td>\n",
       "      <td>0</td>\n",
       "      <td>1</td>\n",
       "      <td>0</td>\n",
       "      <td>1</td>\n",
       "    </tr>\n",
       "    <tr>\n",
       "      <th>3</th>\n",
       "      <td>0</td>\n",
       "      <td>0</td>\n",
       "      <td>1</td>\n",
       "      <td>0</td>\n",
       "      <td>0</td>\n",
       "      <td>1</td>\n",
       "    </tr>\n",
       "    <tr>\n",
       "      <th>4</th>\n",
       "      <td>0</td>\n",
       "      <td>0</td>\n",
       "      <td>1</td>\n",
       "      <td>0</td>\n",
       "      <td>0</td>\n",
       "      <td>1</td>\n",
       "    </tr>\n",
       "  </tbody>\n",
       "</table>\n",
       "</div>"
      ],
      "text/plain": [
       "   'Action'  'Animation'  'Comedy'  'Drama'  'Fantasy'  'Romance'\n",
       "0         0            0         1        1          0          0\n",
       "1         0            0         1        0          0          1\n",
       "2         0            0         0        1          0          1\n",
       "3         0            0         1        0          0          1\n",
       "4         0            0         1        0          0          1"
      ]
     },
     "execution_count": 258,
     "metadata": {},
     "output_type": "execute_result"
    }
   ],
   "source": [
    "te = TransactionEncoder()\n",
    "te_data = te.fit(data).transform(data) # transform data into group of genres\n",
    "df = pd.DataFrame(te_data,columns=te.columns_)\n",
    "df.astype(np.int8).head()"
   ]
  },
  {
   "cell_type": "code",
   "execution_count": 259,
   "id": "separate-reporter",
   "metadata": {},
   "outputs": [
    {
     "data": {
      "text/html": [
       "<div>\n",
       "<style scoped>\n",
       "    .dataframe tbody tr th:only-of-type {\n",
       "        vertical-align: middle;\n",
       "    }\n",
       "\n",
       "    .dataframe tbody tr th {\n",
       "        vertical-align: top;\n",
       "    }\n",
       "\n",
       "    .dataframe thead th {\n",
       "        text-align: right;\n",
       "    }\n",
       "</style>\n",
       "<table border=\"1\" class=\"dataframe\">\n",
       "  <thead>\n",
       "    <tr style=\"text-align: right;\">\n",
       "      <th></th>\n",
       "      <th>support</th>\n",
       "      <th>itemsets</th>\n",
       "    </tr>\n",
       "  </thead>\n",
       "  <tbody>\n",
       "    <tr>\n",
       "      <th>0</th>\n",
       "      <td>0.736842</td>\n",
       "      <td>('Comedy')</td>\n",
       "    </tr>\n",
       "    <tr>\n",
       "      <th>1</th>\n",
       "      <td>0.342105</td>\n",
       "      <td>('Drama')</td>\n",
       "    </tr>\n",
       "    <tr>\n",
       "      <th>2</th>\n",
       "      <td>0.828947</td>\n",
       "      <td>('Romance')</td>\n",
       "    </tr>\n",
       "    <tr>\n",
       "      <th>3</th>\n",
       "      <td>0.171053</td>\n",
       "      <td>('Drama', 'Comedy')</td>\n",
       "    </tr>\n",
       "    <tr>\n",
       "      <th>4</th>\n",
       "      <td>0.565789</td>\n",
       "      <td>('Romance', 'Comedy')</td>\n",
       "    </tr>\n",
       "    <tr>\n",
       "      <th>5</th>\n",
       "      <td>0.171053</td>\n",
       "      <td>('Romance', 'Drama')</td>\n",
       "    </tr>\n",
       "  </tbody>\n",
       "</table>\n",
       "</div>"
      ],
      "text/plain": [
       "    support               itemsets\n",
       "0  0.736842             ('Comedy')\n",
       "1  0.342105              ('Drama')\n",
       "2  0.828947            ('Romance')\n",
       "3  0.171053    ('Drama', 'Comedy')\n",
       "4  0.565789  ('Romance', 'Comedy')\n",
       "5  0.171053   ('Romance', 'Drama')"
      ]
     },
     "execution_count": 259,
     "metadata": {},
     "output_type": "execute_result"
    }
   ],
   "source": [
    "df1 = apriori(df, min_support=0.1, use_colnames=True) # mencari frequent value dari genre menggunakan apriori algorithm\n",
    "df1"
   ]
  },
  {
   "cell_type": "code",
   "execution_count": 260,
   "id": "appropriate-anniversary",
   "metadata": {},
   "outputs": [
    {
     "data": {
      "text/html": [
       "<div>\n",
       "<style scoped>\n",
       "    .dataframe tbody tr th:only-of-type {\n",
       "        vertical-align: middle;\n",
       "    }\n",
       "\n",
       "    .dataframe tbody tr th {\n",
       "        vertical-align: top;\n",
       "    }\n",
       "\n",
       "    .dataframe thead th {\n",
       "        text-align: right;\n",
       "    }\n",
       "</style>\n",
       "<table border=\"1\" class=\"dataframe\">\n",
       "  <thead>\n",
       "    <tr style=\"text-align: right;\">\n",
       "      <th></th>\n",
       "      <th>antecedents</th>\n",
       "      <th>consequents</th>\n",
       "      <th>antecedent support</th>\n",
       "      <th>consequent support</th>\n",
       "      <th>support</th>\n",
       "      <th>confidence</th>\n",
       "      <th>lift</th>\n",
       "      <th>leverage</th>\n",
       "      <th>conviction</th>\n",
       "    </tr>\n",
       "  </thead>\n",
       "  <tbody>\n",
       "  </tbody>\n",
       "</table>\n",
       "</div>"
      ],
      "text/plain": [
       "Empty DataFrame\n",
       "Columns: [antecedents, consequents, antecedent support, consequent support, support, confidence, lift, leverage, conviction]\n",
       "Index: []"
      ]
     },
     "execution_count": 260,
     "metadata": {},
     "output_type": "execute_result"
    }
   ],
   "source": [
    "rules = association_rules(df1, metric=\"lift\", min_threshold=1) # membuat association rules\n",
    "rules"
   ]
  },
  {
   "cell_type": "code",
   "execution_count": null,
   "id": "fourth-disclosure",
   "metadata": {},
   "outputs": [],
   "source": []
  }
 ],
 "metadata": {
  "kernelspec": {
   "display_name": "Python 3",
   "language": "python",
   "name": "python3"
  },
  "language_info": {
   "codemirror_mode": {
    "name": "ipython",
    "version": 3
   },
   "file_extension": ".py",
   "mimetype": "text/x-python",
   "name": "python",
   "nbconvert_exporter": "python",
   "pygments_lexer": "ipython3",
   "version": "3.8.2"
  }
 },
 "nbformat": 4,
 "nbformat_minor": 5
}
